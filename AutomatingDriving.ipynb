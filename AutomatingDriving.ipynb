{
 "cells": [
  {
   "cell_type": "markdown",
   "id": "01426a71",
   "metadata": {},
   "source": [
    "## Import Dependencies"
   ]
  },
  {
   "cell_type": "code",
   "execution_count": null,
   "id": "7ab25e48",
   "metadata": {},
   "outputs": [],
   "source": [
    "import os\n",
    "import gym\n",
    "from stable_baselines3 import PPO\n",
    "from stable_baselines3.common.vec_env import DummyVecEnv\n",
    "from stable_baselines3.common.evaluation import evaluate_policy"
   ]
  },
  {
   "cell_type": "markdown",
   "id": "7b780b52",
   "metadata": {},
   "source": [
    "## Tesing The environment"
   ]
  },
  {
   "cell_type": "code",
   "execution_count": null,
   "id": "8f669aa0",
   "metadata": {},
   "outputs": [],
   "source": [
    "env = gym.make('CarRacing-v0')"
   ]
  },
  {
   "cell_type": "code",
   "execution_count": null,
   "id": "83bc20a9",
   "metadata": {},
   "outputs": [],
   "source": [
    "env.reset()"
   ]
  },
  {
   "cell_type": "code",
   "execution_count": null,
   "id": "31b4f002",
   "metadata": {},
   "outputs": [],
   "source": [
    "env.close()"
   ]
  },
  {
   "cell_type": "code",
   "execution_count": null,
   "id": "47d9bf18",
   "metadata": {},
   "outputs": [],
   "source": [
    "env.action_space "
   ]
  },
  {
   "cell_type": "code",
   "execution_count": null,
   "id": "0acd81c7",
   "metadata": {},
   "outputs": [],
   "source": [
    "env.render()"
   ]
  },
  {
   "cell_type": "code",
   "execution_count": null,
   "id": "229e82bb",
   "metadata": {},
   "outputs": [],
   "source": [
    "episodes = 5 # Episodes are used for, how many times you want to check your environment\n",
    "# # Episode can be a check an enverinment fully once\n",
    "\n",
    "for episode in range(1, episodes+1):\n",
    "    state = env.reset()\n",
    "    done = False\n",
    "    scores = 0\n",
    "    while not done:\n",
    "        env.render()\n",
    "        actions = env.action_space.sample()\n",
    "        n_state, reward, done, info = env.step(actions)\n",
    "        scores += reward\n",
    "        print(\"Episode no: {} , Score: {}\".format(episode,scores))\n",
    "# env.close()"
   ]
  },
  {
   "cell_type": "code",
   "execution_count": null,
   "id": "35d60fc7",
   "metadata": {},
   "outputs": [],
   "source": [
    "env.close()"
   ]
  },
  {
   "cell_type": "markdown",
   "id": "4287b2fe",
   "metadata": {},
   "source": [
    "## Train the Model "
   ]
  },
  {
   "cell_type": "code",
   "execution_count": null,
   "id": "f98f1a2f",
   "metadata": {},
   "outputs": [],
   "source": [
    "env = gym.make('CarRacing-v0')\n",
    "env = DummyVecEnv([lambda:env])"
   ]
  },
  {
   "cell_type": "code",
   "execution_count": null,
   "id": "7a2112f2",
   "metadata": {},
   "outputs": [],
   "source": [
    "log_path = os.path.join('Training','logs')\n",
    "\n",
    "model = PPO(\"CnnPolicy\", env, verbose =1, tensorboard_log= log_path)"
   ]
  },
  {
   "cell_type": "code",
   "execution_count": null,
   "id": "b3963e00",
   "metadata": {},
   "outputs": [],
   "source": [
    "model.learn(total_timesteps=100000)"
   ]
  },
  {
   "cell_type": "markdown",
   "id": "55aa10f6",
   "metadata": {},
   "source": [
    "## Save Model\n"
   ]
  },
  {
   "cell_type": "code",
   "execution_count": null,
   "id": "a2751609",
   "metadata": {},
   "outputs": [],
   "source": [
    "ppo_path = os.path.join ('Training','Saved Model', \"PPO_Self_Driving\")\n",
    "model.save(ppo_path)"
   ]
  },
  {
   "cell_type": "code",
   "execution_count": null,
   "id": "df6b0004",
   "metadata": {},
   "outputs": [],
   "source": [
    "del model"
   ]
  },
  {
   "cell_type": "code",
   "execution_count": null,
   "id": "b84927bd",
   "metadata": {},
   "outputs": [],
   "source": [
    "\n",
    "#reloading the model \n",
    "model = PPO.load(ppo_path,env)"
   ]
  },
  {
   "cell_type": "markdown",
   "id": "2614befa",
   "metadata": {},
   "source": [
    "## Eualvating the model"
   ]
  },
  {
   "cell_type": "code",
   "execution_count": null,
   "id": "2f95f0cd",
   "metadata": {},
   "outputs": [],
   "source": [
    "evaluate_policy(model, env, n_eval_episodes = 10, render= True)"
   ]
  },
  {
   "cell_type": "code",
   "execution_count": null,
   "id": "045c6497",
   "metadata": {},
   "outputs": [],
   "source": []
  },
  {
   "cell_type": "code",
   "execution_count": null,
   "id": "811e0502",
   "metadata": {},
   "outputs": [],
   "source": []
  }
 ],
 "metadata": {
  "kernelspec": {
   "display_name": "Python 3 (ipykernel)",
   "language": "python",
   "name": "python3"
  },
  "language_info": {
   "codemirror_mode": {
    "name": "ipython",
    "version": 3
   },
   "file_extension": ".py",
   "mimetype": "text/x-python",
   "name": "python",
   "nbconvert_exporter": "python",
   "pygments_lexer": "ipython3",
   "version": "3.10.7"
  }
 },
 "nbformat": 4,
 "nbformat_minor": 5
}
